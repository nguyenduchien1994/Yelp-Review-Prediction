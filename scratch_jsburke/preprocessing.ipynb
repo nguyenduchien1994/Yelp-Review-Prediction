{
 "cells": [
  {
   "cell_type": "code",
   "execution_count": 1,
   "metadata": {
    "collapsed": true
   },
   "outputs": [],
   "source": [
    "import json\n",
    "import numpy as np\n",
    "import scipy\n",
    "import pandas as pd\n",
    "from sklearn.feature_extraction.text import TfidfVectorizer\n",
    "%matplotlib inline\n",
    "from sklearn import preprocessing"
   ]
  },
  {
   "cell_type": "code",
   "execution_count": 2,
   "metadata": {
    "collapsed": true
   },
   "outputs": [],
   "source": [
    "# Helper function to clean text data\n",
    "def clean_text(s):\n",
    "    html_esc = ['&lt;', '&gt;', '&amp;']\n",
    "    sp_symbols = ['\\t', '\\n', '\\r']\n",
    "    for sym in html_esc + sp_symbols:\n",
    "        s = s.replace(sym, ' ')\n",
    "    symbols = '1234567890!\"#$%&\\'()*+,-./:;?@[]^_`{|}~'\n",
    "    for sym in symbols:\n",
    "        s = s.replace(sym, ' ')\n",
    "    return s"
   ]
  },
  {
   "cell_type": "code",
   "execution_count": 3,
   "metadata": {
    "collapsed": false
   },
   "outputs": [],
   "source": [
    "# List of cities to consider\n",
    "#cities = ['Pittsburgh', 'Charlotte', 'Urbana', 'Phoenix', 'Las Vegas', 'Madison', 'Cleveland']\n",
    "cities = ['Phoenix']\n",
    "\n",
    "# Business dataset\n",
    "ids = []\n",
    "business_info = []\n",
    "with open('yelp_academic_dataset_business.json') as business_json:\n",
    "    for line in business_json:\n",
    "        business = json.loads(line)\n",
    "        if business['city'] in cities:\n",
    "            if business['categories'] is not None:\n",
    "                if 'Restaurants' in business['categories']:\n",
    "                    ids.append(business['business_id'])\n",
    "                    business_info.append({'business_id': business['business_id'], 'rating': business['stars']})\n",
    "        \n",
    "# Review dataset\n",
    "review_info = []\n",
    "with open('yelp_academic_dataset_review.json') as review_json:\n",
    "    for line in review_json:\n",
    "        review = json.loads(line)\n",
    "        if review['business_id'] in ids:\n",
    "            review_info.append({'business_id': review['business_id'],\n",
    "                                'review': clean_text(review['text']),\n",
    "                                'rating': review['stars']})\n",
    "\n",
    "# Create dataframes\n",
    "business_info = pd.DataFrame(business_info)\n",
    "review_info = pd.DataFrame(review_info)"
   ]
  },
  {
   "cell_type": "code",
   "execution_count": 4,
   "metadata": {
    "collapsed": false
   },
   "outputs": [
    {
     "data": {
      "text/html": [
       "<div>\n",
       "<table border=\"1\" class=\"dataframe\">\n",
       "  <thead>\n",
       "    <tr style=\"text-align: right;\">\n",
       "      <th></th>\n",
       "      <th>business_id</th>\n",
       "      <th>rating</th>\n",
       "    </tr>\n",
       "  </thead>\n",
       "  <tbody>\n",
       "    <tr>\n",
       "      <th>0</th>\n",
       "      <td>YPavuOh2XsnRbLfl0DH2lQ</td>\n",
       "      <td>4.0</td>\n",
       "    </tr>\n",
       "    <tr>\n",
       "      <th>1</th>\n",
       "      <td>F53MSa5SYzO9BG8c_JhskQ</td>\n",
       "      <td>2.5</td>\n",
       "    </tr>\n",
       "    <tr>\n",
       "      <th>2</th>\n",
       "      <td>hEcn9k6ONd5n2mq0lB2aew</td>\n",
       "      <td>3.5</td>\n",
       "    </tr>\n",
       "    <tr>\n",
       "      <th>3</th>\n",
       "      <td>Ld2hhA3q3cdkptwS1fsYEg</td>\n",
       "      <td>4.0</td>\n",
       "    </tr>\n",
       "    <tr>\n",
       "      <th>4</th>\n",
       "      <td>a48i_DFln5e1oaJKNM6BUg</td>\n",
       "      <td>2.5</td>\n",
       "    </tr>\n",
       "  </tbody>\n",
       "</table>\n",
       "</div>"
      ],
      "text/plain": [
       "              business_id  rating\n",
       "0  YPavuOh2XsnRbLfl0DH2lQ     4.0\n",
       "1  F53MSa5SYzO9BG8c_JhskQ     2.5\n",
       "2  hEcn9k6ONd5n2mq0lB2aew     3.5\n",
       "3  Ld2hhA3q3cdkptwS1fsYEg     4.0\n",
       "4  a48i_DFln5e1oaJKNM6BUg     2.5"
      ]
     },
     "execution_count": 4,
     "metadata": {},
     "output_type": "execute_result"
    }
   ],
   "source": [
    "business_info.head()"
   ]
  },
  {
   "cell_type": "code",
   "execution_count": 5,
   "metadata": {
    "collapsed": false
   },
   "outputs": [
    {
     "data": {
      "text/html": [
       "<div>\n",
       "<table border=\"1\" class=\"dataframe\">\n",
       "  <thead>\n",
       "    <tr style=\"text-align: right;\">\n",
       "      <th></th>\n",
       "      <th>business_id</th>\n",
       "      <th>rating</th>\n",
       "      <th>review</th>\n",
       "    </tr>\n",
       "  </thead>\n",
       "  <tbody>\n",
       "    <tr>\n",
       "      <th>0</th>\n",
       "      <td>9JTkh1D7u9fRBohglQRL0w</td>\n",
       "      <td>1</td>\n",
       "      <td>I know that this airport strives to be the fri...</td>\n",
       "    </tr>\n",
       "    <tr>\n",
       "      <th>1</th>\n",
       "      <td>9JTkh1D7u9fRBohglQRL0w</td>\n",
       "      <td>1</td>\n",
       "      <td>We waited for    min at a table while all the ...</td>\n",
       "    </tr>\n",
       "    <tr>\n",
       "      <th>2</th>\n",
       "      <td>9JTkh1D7u9fRBohglQRL0w</td>\n",
       "      <td>4</td>\n",
       "      <td>The other review apparently was expecting a fi...</td>\n",
       "    </tr>\n",
       "    <tr>\n",
       "      <th>3</th>\n",
       "      <td>9JTkh1D7u9fRBohglQRL0w</td>\n",
       "      <td>2</td>\n",
       "      <td>I guess the nice thing to say would be that th...</td>\n",
       "    </tr>\n",
       "    <tr>\n",
       "      <th>4</th>\n",
       "      <td>9JTkh1D7u9fRBohglQRL0w</td>\n",
       "      <td>4</td>\n",
       "      <td>Decent food  decent beer  fast service  what m...</td>\n",
       "    </tr>\n",
       "  </tbody>\n",
       "</table>\n",
       "</div>"
      ],
      "text/plain": [
       "              business_id  rating  \\\n",
       "0  9JTkh1D7u9fRBohglQRL0w       1   \n",
       "1  9JTkh1D7u9fRBohglQRL0w       1   \n",
       "2  9JTkh1D7u9fRBohglQRL0w       4   \n",
       "3  9JTkh1D7u9fRBohglQRL0w       2   \n",
       "4  9JTkh1D7u9fRBohglQRL0w       4   \n",
       "\n",
       "                                              review  \n",
       "0  I know that this airport strives to be the fri...  \n",
       "1  We waited for    min at a table while all the ...  \n",
       "2  The other review apparently was expecting a fi...  \n",
       "3  I guess the nice thing to say would be that th...  \n",
       "4  Decent food  decent beer  fast service  what m...  "
      ]
     },
     "execution_count": 5,
     "metadata": {},
     "output_type": "execute_result"
    }
   ],
   "source": [
    "review_info.head()"
   ]
  },
  {
   "cell_type": "code",
   "execution_count": null,
   "metadata": {
    "collapsed": false
   },
   "outputs": [],
   "source": [
    "review_info.to_csv('reviews.csv')"
   ]
  },
  {
   "cell_type": "code",
   "execution_count": 6,
   "metadata": {
    "collapsed": false
   },
   "outputs": [
    {
     "name": "stdout",
     "output_type": "stream",
     "text": [
      "Number of restaurants: 3353\n",
      "Number of reviews: 266766\n"
     ]
    }
   ],
   "source": [
    "print('Number of restaurants:', business_info.shape[0])\n",
    "print('Number of reviews:', review_info.shape[0])"
   ]
  },
  {
   "cell_type": "code",
   "execution_count": 7,
   "metadata": {
    "collapsed": false
   },
   "outputs": [],
   "source": [
    "# Convert reviews to a matrix of TF-IDF features\n",
    "vectorizer = TfidfVectorizer(stop_words='english', min_df=0.1, max_df=0.8,\n",
    "                             max_features=30, ngram_range=(1,2))\n",
    "dtm = vectorizer.fit_transform(review_info.review.values).toarray()"
   ]
  },
  {
   "cell_type": "code",
   "execution_count": 9,
   "metadata": {
    "collapsed": false
   },
   "outputs": [],
   "source": [
    "import math\n",
    "# Use ~80% of data for training and ~20% for testing\n",
    "X = dtm\n",
    "y = review_info.rating.values\n",
    "\n",
    "train_set_size = math.ceil(dtm.shape[0]*0.8)\n",
    "X_train = X[:train_set_size]\n",
    "y_train = y[:train_set_size]\n",
    "X_test = X[train_set_size:]\n",
    "y_test = y[train_set_size:]"
   ]
  },
  {
   "cell_type": "code",
   "execution_count": null,
   "metadata": {
    "collapsed": false
   },
   "outputs": [],
   "source": [
    "from sklearn import svm\n",
    "\n",
    "svc_poly = svm.SVC(kernel='poly', degree=6, C=10.0)\n",
    "svc_poly.fit(X_train, y_train)\n",
    "y_pred_test = svc_poly.predict(X_test)\n",
    "\n",
    "print(\"Accuracy:\", svc_poly.score(X_test, y_test))\n"
   ]
  },
  {
   "cell_type": "code",
   "execution_count": null,
   "metadata": {
    "collapsed": false
   },
   "outputs": [],
   "source": []
  },
  {
   "cell_type": "code",
   "execution_count": null,
   "metadata": {
    "collapsed": true
   },
   "outputs": [],
   "source": [
    "#review_info = pd.DataFrame(review_info.groupby('business_id')['review'].apply(lambda x: x.sum())).reset_index()\n",
    "\n",
    "#info = pd.merge(business_info, review_info, how='inner', on='business_id')\n",
    "\n",
    "#info.head()"
   ]
  }
 ],
 "metadata": {
  "kernelspec": {
   "display_name": "Python 3",
   "language": "python",
   "name": "python3"
  },
  "language_info": {
   "codemirror_mode": {
    "name": "ipython",
    "version": 3
   },
   "file_extension": ".py",
   "mimetype": "text/x-python",
   "name": "python",
   "nbconvert_exporter": "python",
   "pygments_lexer": "ipython3",
   "version": "3.5.2"
  }
 },
 "nbformat": 4,
 "nbformat_minor": 0
}
